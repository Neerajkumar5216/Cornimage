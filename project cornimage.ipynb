{
 "cells": [
  {
   "cell_type": "code",
   "execution_count": null,
   "metadata": {},
   "outputs": [],
   "source": [
    "\n",
    "import numpy as np\n",
    "import pandas as pd\n",
    "import matplotlib.pyplot as plt\n",
    "import tensorflow as tf\n",
    "dir_ = '../input/cornimage/Color Images'  # storing dataset path into a variable\n"
   ]
  },
  {
   "cell_type": "code",
   "execution_count": null,
   "metadata": {},
   "outputs": [],
   "source": [
    "BATCH, IMG_SIZE, SEED = 32, (160, 160), 42  # Assing custom  batch_size, img_size, seed\n",
    "\n",
    "# Spliting dataset into training and testing data in batches\n",
    "train_ds = tf.keras.preprocessing.image_dataset_from_directory(dir_,\n",
    "                                                              batch_size = BATCH, \n",
    "                                                              image_size = IMG_SIZE, \n",
    "                                                              shuffle = True,\n",
    "                                                              validation_split = .2, \n",
    "                                                              subset = 'training',\n",
    "                                                              seed = SEED)\n",
    "\n",
    "test_ds = tf.keras.preprocessing.image_dataset_from_directory(dir_,\n",
    "                                                              batch_size = BATCH, \n",
    "                                                              image_size = IMG_SIZE, \n",
    "                                                              shuffle = True,\n",
    "                                                              validation_split = .2, \n",
    "                                                              subset = 'validation',\n",
    "                                                              seed = SEED)"
   ]
  },
  {
   "cell_type": "code",
   "execution_count": null,
   "metadata": {},
   "outputs": [],
   "source": [
    "# assining labels to a variable\n",
    "classes = train_ds.class_names\n",
    "classes"
   ]
  },
  {
   "cell_type": "code",
   "execution_count": null,
   "metadata": {},
   "outputs": [],
   "source": [
    "# visualizing first batch of training data\n",
    "for image, label in train_ds.take(1):\n",
    "    plt.figure(figsize = (30, 30))\n",
    "    for i in range(32):\n",
    "        plt.subplot(6, 6, i+1)\n",
    "        plt.imshow(image[i]/255.)\n",
    "        plt.axis('off')\n",
    "        plt.title(classes[label[i]])\n",
    "    plt.show()"
   ]
  },
  {
   "cell_type": "code",
   "execution_count": null,
   "metadata": {},
   "outputs": [],
   "source": [
    "# Building Model for data Preprocessing\n",
    "model_pre_pro = tf.keras.Sequential([\n",
    "    tf.keras.layers.experimental.preprocessing.Resizing(60, 60),\n",
    "    tf.keras.layers.experimental.preprocessing.Rescaling(1./255)\n",
    "])"
   ]
  },
  {
   "cell_type": "code",
   "execution_count": null,
   "metadata": {},
   "outputs": [],
   "source": [
    "# Building Model for data Agumentation\n",
    "model_agu = tf.keras.Sequential([\n",
    "    tf.keras.layers.experimental.preprocessing.RandomFlip('horizontal_and_vertical'),\n",
    "    tf.keras.layers.experimental.preprocessing.RandomRotation(0.1),\n",
    "    tf.keras.layers.experimental.preprocessing.RandomZoom(0.1)\n",
    "])"
   ]
  },
  {
   "cell_type": "code",
   "execution_count": null,
   "metadata": {},
   "outputs": [],
   "source": [
    "# Building Customized CNN model\n",
    "model = tf.keras.Sequential([\n",
    "    tf.keras.layers.InputLayer(input_shape=(160, 160, 3)),\n",
    "    model_pre_pro,\n",
    "    model_agu,\n",
    "    tf.keras.layers.Conv2D(32, (3, 3), activation='relu'), #input_shape=(160, 160, 3)),\n",
    "    tf.keras.layers.MaxPool2D((2, 2)),\n",
    "    tf.keras.layers.Conv2D(64, (3, 3), activation='relu'),\n",
    "    tf.keras.layers.MaxPool2D((2, 2)),\n",
    "    tf.keras.layers.Conv2D(25, (3, 3), activation='relu'),\n",
    "    tf.keras.layers.MaxPool2D((2, 2)),\n",
    "    tf.keras.layers.Conv2D(36, (3, 3), activation='relu'),\n",
    "    tf.keras.layers.Flatten(),\n",
    "    tf.keras.layers.Dense(169, activation = 'sigmoid'),\n",
    "    tf.keras.layers.Dropout(0.2),\n",
    "    tf.keras.layers.Dense(119, activation = 'tanh'),\n",
    "    tf.keras.layers.Dropout(0.3),\n",
    "    tf.keras.layers.Dense(79, activation = 'relu'),\n",
    "    tf.keras.layers.Dropout(0.2),\n",
    "    tf.keras.layers.Dense(49, activation = 'relu'),\n",
    "    tf.keras.layers.Dense(4, activation = 'softmax'),\n",
    "])\n",
    "\n",
    "# Model Summary\n",
    "model.summary() "
   ]
  },
  {
   "cell_type": "code",
   "execution_count": null,
   "metadata": {},
   "outputs": [],
   "source": [
    "# Visualizing Customized CNN model\n",
    "tf.keras.utils.plot_model(model,'corn.png', show_shapes=True, show_layer_names=True)"
   ]
  },
  {
   "cell_type": "code",
   "execution_count": null,
   "metadata": {},
   "outputs": [],
   "source": [
    "# Model Compliation\n",
    "model.compile(optimizer = 'adam', loss = 'sparse_categorical_crossentropy', metrics = ['accuracy'])"
   ]
  },
  {
   "cell_type": "code",
   "execution_count": null,
   "metadata": {},
   "outputs": [],
   "source": [
    "# Training Model\n",
    "EPOCHS = 100\n",
    "hist = model.fit(train_ds, epochs = EPOCHS, verbose = 1)"
   ]
  },
  {
   "cell_type": "code",
   "execution_count": null,
   "metadata": {},
   "outputs": [],
   "source": [
    "# Training History\n",
    "model_df=pd.DataFrame(hist.history)\n",
    "model_df['epoch']=hist.epoch\n",
    "print(model_df.head())"
   ]
  },
  {
   "cell_type": "code",
   "execution_count": null,
   "metadata": {},
   "outputs": [],
   "source": [
    "# Visualizing Training Accuracy\n",
    "plt.grid(True)\n",
    "plt.plot(model_df['epoch'],model_df['accuracy'],label='training accuracy')\n",
    "plt.xlabel('Accuracy')\n",
    "plt.ylabel('Epoch')\n",
    "plt.title('Training Accuracy')\n",
    "plt.show()"
   ]
  },
  {
   "cell_type": "code",
   "execution_count": null,
   "metadata": {},
   "outputs": [],
   "source": [
    "# Visualizing Training Loss\n",
    "plt.grid(True)\n",
    "plt.plot(model_df['epoch'],model_df['loss'],label='training loss', color = 'orange')\n",
    "plt.xlabel('Loss')\n",
    "plt.ylabel('Epoch')\n",
    "plt.title('Training Loss')\n",
    "plt.show()"
   ]
  },
  {
   "cell_type": "code",
   "execution_count": null,
   "metadata": {},
   "outputs": [],
   "source": [
    "# Model Evaluatation\n",
    "test_loss, test_accuracy = model.evaluate(test_ds)"
   ]
  },
  {
   "cell_type": "code",
   "execution_count": null,
   "metadata": {},
   "outputs": [],
   "source": [
    "# Printing Testing Accuracy and Loss\n",
    "print(f'Test Accuracy = {test_accuracy}\\nTest Loss = {test_loss}')"
   ]
  },
  {
   "cell_type": "code",
   "execution_count": null,
   "metadata": {},
   "outputs": [],
   "source": [
    "# Making multiple batches of test data into single batch\n",
    "num_batch=0\n",
    "img=[]\n",
    "label=[]\n",
    "for image_batch,label_batch in test_ds:\n",
    "    num_batch+=1\n",
    "    img.append(image_batch)\n",
    "    label.append(label_batch)\n",
    "print(num_batch)\n",
    "inputs=np.concatenate(img)\n",
    "targets=np.concatenate(label)\n",
    "print(inputs.shape)\n",
    "print(targets.shape)"
   ]
  },
  {
   "cell_type": "code",
   "execution_count": null,
   "metadata": {},
   "outputs": [],
   "source": [
    "# Predicting Data\n",
    "pred = model.predict(inputs)"
   ]
  },
  {
   "cell_type": "code",
   "execution_count": null,
   "metadata": {},
   "outputs": [],
   "source": [
    "# Visualizing Predicted Data\n",
    "plt.figure(figsize = (15, 50))\n",
    "for i in range(100):\n",
    "    plt.subplot(20, 5, i+1)\n",
    "    pred_label = np.argmax(pred[i])\n",
    "    test_label = targets[i]\n",
    "    plt.imshow(inputs[i]/255.)\n",
    "    plt.axis('off')\n",
    "    if pred_label == test_label:\n",
    "        color = 'green'\n",
    "        plt.title('Correct classification',color=color)\n",
    "    else:\n",
    "        color = 'red'\n",
    "        plt.title('WRONG classification',color=color)\n",
    "plt.show()"
   ]
  },
  {
   "cell_type": "code",
   "execution_count": null,
   "metadata": {},
   "outputs": [],
   "source": [
    "# Confusion Matrix of Predicted Data and Actual Data\n",
    "tf.math.confusion_matrix([np.argmax(i) for i in pred], targets)"
   ]
  },
  {
   "cell_type": "code",
   "execution_count": null,
   "metadata": {},
   "outputs": [],
   "source": []
  }
 ],
 "metadata": {
  "kernelspec": {
   "display_name": "Python 3",
   "language": "python",
   "name": "python3"
  }
 },
 "nbformat": 4,
 "nbformat_minor": 2
}
